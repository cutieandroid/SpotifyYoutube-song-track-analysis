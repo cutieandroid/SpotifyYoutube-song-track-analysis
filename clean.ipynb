{
 "cells": [
  {
   "cell_type": "code",
   "execution_count": 275,
   "metadata": {},
   "outputs": [],
   "source": [
    "import pandas as pd"
   ]
  },
  {
   "cell_type": "code",
   "execution_count": 276,
   "metadata": {},
   "outputs": [],
   "source": [
    "data=pd.read_csv('Spotify_Youtuben.csv')\n"
   ]
  },
  {
   "cell_type": "code",
   "execution_count": 277,
   "metadata": {},
   "outputs": [
    {
     "data": {
      "text/plain": [
       "(20723, 27)"
      ]
     },
     "execution_count": 277,
     "metadata": {},
     "output_type": "execute_result"
    }
   ],
   "source": [
    "data.shape"
   ]
  },
  {
   "cell_type": "code",
   "execution_count": 278,
   "metadata": {},
   "outputs": [],
   "source": [
    "#Task 0\n",
    "#Remove columns which are not needed in our analysis.\n",
    "#Remove Url_spotify, Uri, Key, Url_youtube, Description\n",
    "\n",
    "data.drop(['Url_spotify','Uri','Key','Url_youtube','Description'],axis=1,inplace=True)\n",
    "\n"
   ]
  },
  {
   "cell_type": "code",
   "execution_count": 279,
   "metadata": {},
   "outputs": [
    {
     "name": "stdout",
     "output_type": "stream",
     "text": [
      "Artist\n",
      "Track\n",
      "Album\n",
      "Album_type\n",
      "Danceability\n",
      "Energy\n",
      "Loudness\n",
      "Speechiness\n",
      "Acousticness\n",
      "Instrumentalness\n",
      "Liveness\n",
      "Valence\n",
      "Tempo\n",
      "Duration_ms\n",
      "Title\n",
      "Channel\n",
      "Views\n",
      "Likes\n",
      "Comments\n",
      "Licensed\n",
      "official_video\n",
      "Stream\n"
     ]
    }
   ],
   "source": [
    "#Task 0 checkpoint\n",
    "for i in data.columns:\n",
    "    print(i)"
   ]
  },
  {
   "cell_type": "code",
   "execution_count": 280,
   "metadata": {},
   "outputs": [],
   "source": [
    "#Task1 Handle the null values\n",
    "data['Danceability'].fillna(0,inplace=True)\n",
    "data['Energy'].fillna(0,inplace=True)\n",
    "data['Loudness'].fillna(0,inplace=True)\n",
    "data['Speechiness'].fillna(0,inplace=True)\n",
    "data['Acousticness'].fillna(0,inplace=True)\n",
    "data['Instrumentalness'].fillna(0,inplace=True)\n",
    "data['Liveness'].fillna(0,inplace=True)\n",
    "data['Valence'].fillna(0,inplace=True)\n",
    "data['Tempo'].fillna(0,inplace=True)\n",
    "data['Title'].fillna('NA',inplace=True)\n",
    "data['Channel'].fillna('NA',inplace=True)\n",
    "data['Views'].fillna(0,inplace=True)\n",
    "data['Likes'].fillna(0,inplace=True)\n",
    "data['Comments'].fillna(0,inplace=True)\n",
    "data['Licensed'].fillna('NA',inplace=True)\n",
    "data['official_video'].fillna('NA',inplace=True)\n",
    "data['Duration_ms'].fillna(0,inplace=True)\n",
    "data['Stream'].fillna(0,inplace=True)"
   ]
  },
  {
   "cell_type": "code",
   "execution_count": 281,
   "metadata": {},
   "outputs": [
    {
     "data": {
      "text/plain": [
       "Artist              0\n",
       "Track               0\n",
       "Album               0\n",
       "Album_type          0\n",
       "Danceability        0\n",
       "Energy              0\n",
       "Loudness            0\n",
       "Speechiness         0\n",
       "Acousticness        0\n",
       "Instrumentalness    0\n",
       "Liveness            0\n",
       "Valence             0\n",
       "Tempo               0\n",
       "Duration_ms         0\n",
       "Title               0\n",
       "Channel             0\n",
       "Views               0\n",
       "Likes               0\n",
       "Comments            0\n",
       "Licensed            0\n",
       "official_video      0\n",
       "Stream              0\n",
       "dtype: int64"
      ]
     },
     "execution_count": 281,
     "metadata": {},
     "output_type": "execute_result"
    }
   ],
   "source": [
    "#Task 1 checkpoint\n",
    "data.isnull().sum()"
   ]
  },
  {
   "cell_type": "code",
   "execution_count": 282,
   "metadata": {},
   "outputs": [],
   "source": [
    "#Task2 CHECK FOR DUPLICATES AND REMOVE THEM KEEPING THE FIRST VALUE\n",
    "\n",
    "data.duplicated().sum()\n",
    "data.drop_duplicates(inplace=True, keep='first')"
   ]
  },
  {
   "cell_type": "code",
   "execution_count": 283,
   "metadata": {},
   "outputs": [
    {
     "data": {
      "text/plain": [
       "0"
      ]
     },
     "execution_count": 283,
     "metadata": {},
     "output_type": "execute_result"
    }
   ],
   "source": [
    "#TASK2 CHECKPOINT\n",
    "data.duplicated().sum()"
   ]
  },
  {
   "cell_type": "code",
   "execution_count": 284,
   "metadata": {},
   "outputs": [],
   "source": [
    "#TASK3 CONVERT millisecond duration to minute for better understanding\n",
    "data['Duration_ms']=data['Duration_ms']/60000"
   ]
  },
  {
   "cell_type": "code",
   "execution_count": 285,
   "metadata": {},
   "outputs": [
    {
     "data": {
      "text/html": [
       "<div>\n",
       "<style scoped>\n",
       "    .dataframe tbody tr th:only-of-type {\n",
       "        vertical-align: middle;\n",
       "    }\n",
       "\n",
       "    .dataframe tbody tr th {\n",
       "        vertical-align: top;\n",
       "    }\n",
       "\n",
       "    .dataframe thead th {\n",
       "        text-align: right;\n",
       "    }\n",
       "</style>\n",
       "<table border=\"1\" class=\"dataframe\">\n",
       "  <thead>\n",
       "    <tr style=\"text-align: right;\">\n",
       "      <th></th>\n",
       "      <th>Artist</th>\n",
       "      <th>Track</th>\n",
       "      <th>Album</th>\n",
       "      <th>Album_type</th>\n",
       "      <th>Danceability</th>\n",
       "      <th>Energy</th>\n",
       "      <th>Loudness</th>\n",
       "      <th>Speechiness</th>\n",
       "      <th>Acousticness</th>\n",
       "      <th>Instrumentalness</th>\n",
       "      <th>...</th>\n",
       "      <th>Tempo</th>\n",
       "      <th>Duration_ms</th>\n",
       "      <th>Title</th>\n",
       "      <th>Channel</th>\n",
       "      <th>Views</th>\n",
       "      <th>Likes</th>\n",
       "      <th>Comments</th>\n",
       "      <th>Licensed</th>\n",
       "      <th>official_video</th>\n",
       "      <th>Stream</th>\n",
       "    </tr>\n",
       "  </thead>\n",
       "  <tbody>\n",
       "    <tr>\n",
       "      <th>0</th>\n",
       "      <td>Gorillaz</td>\n",
       "      <td>Feel Good Inc.</td>\n",
       "      <td>Demon Days</td>\n",
       "      <td>album</td>\n",
       "      <td>0.818</td>\n",
       "      <td>0.705</td>\n",
       "      <td>-6.679</td>\n",
       "      <td>0.1770</td>\n",
       "      <td>0.008360</td>\n",
       "      <td>0.002330</td>\n",
       "      <td>...</td>\n",
       "      <td>138.559</td>\n",
       "      <td>3.710667</td>\n",
       "      <td>Gorillaz - Feel Good Inc. (Official Video)</td>\n",
       "      <td>Gorillaz</td>\n",
       "      <td>693555221.0</td>\n",
       "      <td>6220896.0</td>\n",
       "      <td>169907.0</td>\n",
       "      <td>True</td>\n",
       "      <td>True</td>\n",
       "      <td>1.040235e+09</td>\n",
       "    </tr>\n",
       "    <tr>\n",
       "      <th>1</th>\n",
       "      <td>Gorillaz</td>\n",
       "      <td>Rhinestone Eyes</td>\n",
       "      <td>Plastic Beach</td>\n",
       "      <td>album</td>\n",
       "      <td>0.676</td>\n",
       "      <td>0.703</td>\n",
       "      <td>-5.815</td>\n",
       "      <td>0.0302</td>\n",
       "      <td>0.086900</td>\n",
       "      <td>0.000687</td>\n",
       "      <td>...</td>\n",
       "      <td>92.761</td>\n",
       "      <td>3.336217</td>\n",
       "      <td>Gorillaz - Rhinestone Eyes [Storyboard Film] (...</td>\n",
       "      <td>Gorillaz</td>\n",
       "      <td>72011645.0</td>\n",
       "      <td>1079128.0</td>\n",
       "      <td>31003.0</td>\n",
       "      <td>True</td>\n",
       "      <td>True</td>\n",
       "      <td>3.100837e+08</td>\n",
       "    </tr>\n",
       "    <tr>\n",
       "      <th>2</th>\n",
       "      <td>Gorillaz</td>\n",
       "      <td>New Gold (feat. Tame Impala and Bootie Brown)</td>\n",
       "      <td>New Gold (feat. Tame Impala and Bootie Brown)</td>\n",
       "      <td>single</td>\n",
       "      <td>0.695</td>\n",
       "      <td>0.923</td>\n",
       "      <td>-3.930</td>\n",
       "      <td>0.0522</td>\n",
       "      <td>0.042500</td>\n",
       "      <td>0.046900</td>\n",
       "      <td>...</td>\n",
       "      <td>108.014</td>\n",
       "      <td>3.585833</td>\n",
       "      <td>Gorillaz - New Gold ft. Tame Impala &amp; Bootie B...</td>\n",
       "      <td>Gorillaz</td>\n",
       "      <td>8435055.0</td>\n",
       "      <td>282142.0</td>\n",
       "      <td>7399.0</td>\n",
       "      <td>True</td>\n",
       "      <td>True</td>\n",
       "      <td>6.306347e+07</td>\n",
       "    </tr>\n",
       "    <tr>\n",
       "      <th>3</th>\n",
       "      <td>Gorillaz</td>\n",
       "      <td>On Melancholy Hill</td>\n",
       "      <td>Plastic Beach</td>\n",
       "      <td>album</td>\n",
       "      <td>0.689</td>\n",
       "      <td>0.739</td>\n",
       "      <td>-5.810</td>\n",
       "      <td>0.0260</td>\n",
       "      <td>0.000015</td>\n",
       "      <td>0.509000</td>\n",
       "      <td>...</td>\n",
       "      <td>120.423</td>\n",
       "      <td>3.897783</td>\n",
       "      <td>Gorillaz - On Melancholy Hill (Official Video)</td>\n",
       "      <td>Gorillaz</td>\n",
       "      <td>211754952.0</td>\n",
       "      <td>1788577.0</td>\n",
       "      <td>55229.0</td>\n",
       "      <td>True</td>\n",
       "      <td>True</td>\n",
       "      <td>4.346636e+08</td>\n",
       "    </tr>\n",
       "    <tr>\n",
       "      <th>4</th>\n",
       "      <td>Gorillaz</td>\n",
       "      <td>Clint Eastwood</td>\n",
       "      <td>Gorillaz</td>\n",
       "      <td>album</td>\n",
       "      <td>0.663</td>\n",
       "      <td>0.694</td>\n",
       "      <td>-8.627</td>\n",
       "      <td>0.1710</td>\n",
       "      <td>0.025300</td>\n",
       "      <td>0.000000</td>\n",
       "      <td>...</td>\n",
       "      <td>167.953</td>\n",
       "      <td>5.682000</td>\n",
       "      <td>Gorillaz - Clint Eastwood (Official Video)</td>\n",
       "      <td>Gorillaz</td>\n",
       "      <td>618480958.0</td>\n",
       "      <td>6197318.0</td>\n",
       "      <td>155930.0</td>\n",
       "      <td>True</td>\n",
       "      <td>True</td>\n",
       "      <td>6.172597e+08</td>\n",
       "    </tr>\n",
       "  </tbody>\n",
       "</table>\n",
       "<p>5 rows × 22 columns</p>\n",
       "</div>"
      ],
      "text/plain": [
       "     Artist                                          Track  \\\n",
       "0  Gorillaz                                 Feel Good Inc.   \n",
       "1  Gorillaz                                Rhinestone Eyes   \n",
       "2  Gorillaz  New Gold (feat. Tame Impala and Bootie Brown)   \n",
       "3  Gorillaz                             On Melancholy Hill   \n",
       "4  Gorillaz                                 Clint Eastwood   \n",
       "\n",
       "                                           Album Album_type  Danceability  \\\n",
       "0                                     Demon Days      album         0.818   \n",
       "1                                  Plastic Beach      album         0.676   \n",
       "2  New Gold (feat. Tame Impala and Bootie Brown)     single         0.695   \n",
       "3                                  Plastic Beach      album         0.689   \n",
       "4                                       Gorillaz      album         0.663   \n",
       "\n",
       "   Energy  Loudness  Speechiness  Acousticness  Instrumentalness  ...  \\\n",
       "0   0.705    -6.679       0.1770      0.008360          0.002330  ...   \n",
       "1   0.703    -5.815       0.0302      0.086900          0.000687  ...   \n",
       "2   0.923    -3.930       0.0522      0.042500          0.046900  ...   \n",
       "3   0.739    -5.810       0.0260      0.000015          0.509000  ...   \n",
       "4   0.694    -8.627       0.1710      0.025300          0.000000  ...   \n",
       "\n",
       "     Tempo  Duration_ms                                              Title  \\\n",
       "0  138.559     3.710667         Gorillaz - Feel Good Inc. (Official Video)   \n",
       "1   92.761     3.336217  Gorillaz - Rhinestone Eyes [Storyboard Film] (...   \n",
       "2  108.014     3.585833  Gorillaz - New Gold ft. Tame Impala & Bootie B...   \n",
       "3  120.423     3.897783     Gorillaz - On Melancholy Hill (Official Video)   \n",
       "4  167.953     5.682000         Gorillaz - Clint Eastwood (Official Video)   \n",
       "\n",
       "    Channel        Views      Likes  Comments  Licensed  official_video  \\\n",
       "0  Gorillaz  693555221.0  6220896.0  169907.0      True            True   \n",
       "1  Gorillaz   72011645.0  1079128.0   31003.0      True            True   \n",
       "2  Gorillaz    8435055.0   282142.0    7399.0      True            True   \n",
       "3  Gorillaz  211754952.0  1788577.0   55229.0      True            True   \n",
       "4  Gorillaz  618480958.0  6197318.0  155930.0      True            True   \n",
       "\n",
       "         Stream  \n",
       "0  1.040235e+09  \n",
       "1  3.100837e+08  \n",
       "2  6.306347e+07  \n",
       "3  4.346636e+08  \n",
       "4  6.172597e+08  \n",
       "\n",
       "[5 rows x 22 columns]"
      ]
     },
     "execution_count": 285,
     "metadata": {},
     "output_type": "execute_result"
    }
   ],
   "source": [
    "data.head()"
   ]
  },
  {
   "cell_type": "code",
   "execution_count": 286,
   "metadata": {},
   "outputs": [
    {
     "data": {
      "text/plain": [
       "0    3.710667\n",
       "1    3.336217\n",
       "2    3.585833\n",
       "3    3.897783\n",
       "4    5.682000\n",
       "Name: Duration_ms, dtype: float64"
      ]
     },
     "execution_count": 286,
     "metadata": {},
     "output_type": "execute_result"
    }
   ],
   "source": [
    "#task3 check point\n",
    "data['Duration_ms'].head()"
   ]
  },
  {
   "cell_type": "code",
   "execution_count": 287,
   "metadata": {},
   "outputs": [],
   "source": [
    "#Task4 rename the modified column to Duration_min\n",
    "data.rename(columns={'Duration_ms':'Duration_min'},inplace=True)"
   ]
  },
  {
   "cell_type": "code",
   "execution_count": 288,
   "metadata": {},
   "outputs": [
    {
     "name": "stdout",
     "output_type": "stream",
     "text": [
      "Artist\n",
      "Track\n",
      "Album\n",
      "Album_type\n",
      "Danceability\n",
      "Energy\n",
      "Loudness\n",
      "Speechiness\n",
      "Acousticness\n",
      "Instrumentalness\n",
      "Liveness\n",
      "Valence\n",
      "Tempo\n",
      "Duration_min\n",
      "Title\n",
      "Channel\n",
      "Views\n",
      "Likes\n",
      "Comments\n",
      "Licensed\n",
      "official_video\n",
      "Stream\n"
     ]
    }
   ],
   "source": [
    "#task4 checkpoint\n",
    "for i in data.columns:\n",
    "    print(i)"
   ]
  },
  {
   "cell_type": "code",
   "execution_count": 289,
   "metadata": {},
   "outputs": [],
   "source": [
    "#Task5 Remove irrelvant track name that starts with ?\n",
    "\n",
    "data = data[~data['Track'].str.startswith('?')]\n"
   ]
  },
  {
   "cell_type": "code",
   "execution_count": 290,
   "metadata": {},
   "outputs": [
    {
     "data": {
      "text/html": [
       "<div>\n",
       "<style scoped>\n",
       "    .dataframe tbody tr th:only-of-type {\n",
       "        vertical-align: middle;\n",
       "    }\n",
       "\n",
       "    .dataframe tbody tr th {\n",
       "        vertical-align: top;\n",
       "    }\n",
       "\n",
       "    .dataframe thead th {\n",
       "        text-align: right;\n",
       "    }\n",
       "</style>\n",
       "<table border=\"1\" class=\"dataframe\">\n",
       "  <thead>\n",
       "    <tr style=\"text-align: right;\">\n",
       "      <th></th>\n",
       "      <th>Artist</th>\n",
       "      <th>Track</th>\n",
       "      <th>Album</th>\n",
       "      <th>Album_type</th>\n",
       "      <th>Danceability</th>\n",
       "      <th>Energy</th>\n",
       "      <th>Loudness</th>\n",
       "      <th>Speechiness</th>\n",
       "      <th>Acousticness</th>\n",
       "      <th>Instrumentalness</th>\n",
       "      <th>...</th>\n",
       "      <th>Tempo</th>\n",
       "      <th>Duration_min</th>\n",
       "      <th>Title</th>\n",
       "      <th>Channel</th>\n",
       "      <th>Views</th>\n",
       "      <th>Likes</th>\n",
       "      <th>Comments</th>\n",
       "      <th>Licensed</th>\n",
       "      <th>official_video</th>\n",
       "      <th>Stream</th>\n",
       "    </tr>\n",
       "  </thead>\n",
       "  <tbody>\n",
       "  </tbody>\n",
       "</table>\n",
       "<p>0 rows × 22 columns</p>\n",
       "</div>"
      ],
      "text/plain": [
       "Empty DataFrame\n",
       "Columns: [Artist, Track, Album, Album_type, Danceability, Energy, Loudness, Speechiness, Acousticness, Instrumentalness, Liveness, Valence, Tempo, Duration_min, Title, Channel, Views, Likes, Comments, Licensed, official_video, Stream]\n",
       "Index: []\n",
       "\n",
       "[0 rows x 22 columns]"
      ]
     },
     "execution_count": 290,
     "metadata": {},
     "output_type": "execute_result"
    }
   ],
   "source": [
    "#Task5 checkpoint\n",
    "\n",
    "data[data['Track'].str.startswith('?')]"
   ]
  },
  {
   "cell_type": "code",
   "execution_count": 291,
   "metadata": {},
   "outputs": [],
   "source": [
    "#Task6 Calculate the Energy to Liveness ratio for each track\n",
    "\n",
    "data['EnergyLiveness']=data['Energy']/data['Liveness']\n"
   ]
  },
  {
   "cell_type": "code",
   "execution_count": 292,
   "metadata": {},
   "outputs": [
    {
     "data": {
      "text/plain": [
       "0     1.150082\n",
       "1    15.183585\n",
       "2     7.956897\n",
       "3    11.546875\n",
       "4     9.942693\n",
       "Name: EnergyLiveness, dtype: float64"
      ]
     },
     "execution_count": 292,
     "metadata": {},
     "output_type": "execute_result"
    }
   ],
   "source": [
    "#Task6 checkpoint\n",
    "data['EnergyLiveness'].head()"
   ]
  },
  {
   "cell_type": "code",
   "execution_count": 293,
   "metadata": {},
   "outputs": [
    {
     "name": "stdout",
     "output_type": "stream",
     "text": [
      "<class 'pandas.core.frame.DataFrame'>\n",
      "Int64Index: 20594 entries, 0 to 20722\n",
      "Data columns (total 23 columns):\n",
      " #   Column            Non-Null Count  Dtype  \n",
      "---  ------            --------------  -----  \n",
      " 0   Artist            20594 non-null  object \n",
      " 1   Track             20594 non-null  object \n",
      " 2   Album             20594 non-null  object \n",
      " 3   Album_type        20594 non-null  object \n",
      " 4   Danceability      20594 non-null  float64\n",
      " 5   Energy            20594 non-null  float64\n",
      " 6   Loudness          20594 non-null  float64\n",
      " 7   Speechiness       20594 non-null  float64\n",
      " 8   Acousticness      20594 non-null  float64\n",
      " 9   Instrumentalness  20594 non-null  float64\n",
      " 10  Liveness          20594 non-null  float64\n",
      " 11  Valence           20594 non-null  float64\n",
      " 12  Tempo             20594 non-null  float64\n",
      " 13  Duration_min      20594 non-null  float64\n",
      " 14  Title             20594 non-null  object \n",
      " 15  Channel           20594 non-null  object \n",
      " 16  Views             20594 non-null  float64\n",
      " 17  Likes             20594 non-null  float64\n",
      " 18  Comments          20594 non-null  float64\n",
      " 19  Licensed          20594 non-null  object \n",
      " 20  official_video    20594 non-null  object \n",
      " 21  Stream            20594 non-null  float64\n",
      " 22  EnergyLiveness    20592 non-null  float64\n",
      "dtypes: float64(15), object(8)\n",
      "memory usage: 3.8+ MB\n"
     ]
    }
   ],
   "source": [
    "data['Views'] = data['Views'].astype('float64')\n",
    "\n",
    "data.info()"
   ]
  },
  {
   "cell_type": "code",
   "execution_count": 294,
   "metadata": {},
   "outputs": [
    {
     "name": "stdout",
     "output_type": "stream",
     "text": [
      "<class 'pandas.core.frame.DataFrame'>\n",
      "Int64Index: 20594 entries, 0 to 20722\n",
      "Data columns (total 24 columns):\n",
      " #   Column            Non-Null Count  Dtype  \n",
      "---  ------            --------------  -----  \n",
      " 0   Artist            20594 non-null  object \n",
      " 1   Track             20594 non-null  object \n",
      " 2   Album             20594 non-null  object \n",
      " 3   Album_type        20594 non-null  object \n",
      " 4   Danceability      20594 non-null  float64\n",
      " 5   Energy            20594 non-null  float64\n",
      " 6   Loudness          20594 non-null  float64\n",
      " 7   Speechiness       20594 non-null  float64\n",
      " 8   Acousticness      20594 non-null  float64\n",
      " 9   Instrumentalness  20594 non-null  float64\n",
      " 10  Liveness          20594 non-null  float64\n",
      " 11  Valence           20594 non-null  float64\n",
      " 12  Tempo             20594 non-null  float64\n",
      " 13  Duration_min      20594 non-null  float64\n",
      " 14  Title             20594 non-null  object \n",
      " 15  Channel           20594 non-null  object \n",
      " 16  Views             20594 non-null  float64\n",
      " 17  Likes             20594 non-null  float64\n",
      " 18  Comments          20594 non-null  float64\n",
      " 19  Licensed          20594 non-null  object \n",
      " 20  official_video    20594 non-null  object \n",
      " 21  Stream            20594 non-null  float64\n",
      " 22  EnergyLiveness    20592 non-null  float64\n",
      " 23  most_playedon     20594 non-null  bool   \n",
      "dtypes: bool(1), float64(15), object(8)\n",
      "memory usage: 3.8+ MB\n"
     ]
    }
   ],
   "source": [
    "data['most_playedon']=data['Views']>=data['Stream']\n",
    "data.info()"
   ]
  },
  {
   "cell_type": "code",
   "execution_count": 295,
   "metadata": {},
   "outputs": [
    {
     "name": "stdout",
     "output_type": "stream",
     "text": [
      "<class 'pandas.core.frame.DataFrame'>\n",
      "Int64Index: 20594 entries, 0 to 20722\n",
      "Data columns (total 24 columns):\n",
      " #   Column            Non-Null Count  Dtype  \n",
      "---  ------            --------------  -----  \n",
      " 0   Artist            20594 non-null  object \n",
      " 1   Track             20594 non-null  object \n",
      " 2   Album             20594 non-null  object \n",
      " 3   Album_type        20594 non-null  object \n",
      " 4   Danceability      20594 non-null  float64\n",
      " 5   Energy            20594 non-null  float64\n",
      " 6   Loudness          20594 non-null  float64\n",
      " 7   Speechiness       20594 non-null  float64\n",
      " 8   Acousticness      20594 non-null  float64\n",
      " 9   Instrumentalness  20594 non-null  float64\n",
      " 10  Liveness          20594 non-null  float64\n",
      " 11  Valence           20594 non-null  float64\n",
      " 12  Tempo             20594 non-null  float64\n",
      " 13  Duration_min      20594 non-null  float64\n",
      " 14  Title             20594 non-null  object \n",
      " 15  Channel           20594 non-null  object \n",
      " 16  Views             20594 non-null  float64\n",
      " 17  Likes             20594 non-null  float64\n",
      " 18  Comments          20594 non-null  float64\n",
      " 19  Licensed          20594 non-null  object \n",
      " 20  official_video    20594 non-null  object \n",
      " 21  Stream            20594 non-null  float64\n",
      " 22  EnergyLiveness    20592 non-null  float64\n",
      " 23  most_playedon     20594 non-null  object \n",
      "dtypes: float64(15), object(9)\n",
      "memory usage: 3.9+ MB\n"
     ]
    }
   ],
   "source": [
    "data['most_playedon']=data['most_playedon'].astype('object')\n",
    "data.info()"
   ]
  },
  {
   "cell_type": "code",
   "execution_count": 297,
   "metadata": {},
   "outputs": [
    {
     "data": {
      "text/plain": [
       "0        False\n",
       "1        False\n",
       "2        False\n",
       "3        False\n",
       "4         True\n",
       "         ...  \n",
       "20718    False\n",
       "20719    False\n",
       "20720    False\n",
       "20721    False\n",
       "20722    False\n",
       "Name: most_playedon, Length: 20594, dtype: object"
      ]
     },
     "execution_count": 297,
     "metadata": {},
     "output_type": "execute_result"
    }
   ],
   "source": [
    "data['most_playedon'].replace(to_replace='False',value='Youtube',inplace=True)\n",
    "data['most_playedon']\n",
    "    "
   ]
  }
 ],
 "metadata": {
  "kernelspec": {
   "display_name": "Python 3",
   "language": "python",
   "name": "python3"
  },
  "language_info": {
   "codemirror_mode": {
    "name": "ipython",
    "version": 3
   },
   "file_extension": ".py",
   "mimetype": "text/x-python",
   "name": "python",
   "nbconvert_exporter": "python",
   "pygments_lexer": "ipython3",
   "version": "3.10.5"
  },
  "orig_nbformat": 4
 },
 "nbformat": 4,
 "nbformat_minor": 2
}
